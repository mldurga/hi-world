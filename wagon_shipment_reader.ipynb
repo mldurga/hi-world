{
  "cells": [
    {
      "cell_type": "markdown",
      "metadata": {
        "id": "view-in-github",
        "colab_type": "text"
      },
      "source": [
        "<a href=\"https://colab.research.google.com/github/mldurga/projects/blob/master/wagon_shipment_reader.ipynb\" target=\"_parent\"><img src=\"https://colab.research.google.com/assets/colab-badge.svg\" alt=\"Open In Colab\"/></a>"
      ]
    },
    {
      "cell_type": "markdown",
      "source": [
        "# Wagon shipment number scanner\n",
        "\n",
        "## Its skeleton version, further improvement is in pipeline\n"
      ],
      "metadata": {
        "id": "OfE0r1rM5JlL"
      }
    },
    {
      "cell_type": "markdown",
      "source": [
        "It is using google drive for storing the HTML file showing all the data with images and Excel file for further downstream tasks. So you need to login with the google credentials and copy paste the all the wagon images collected from the field to the folder name \"wagon_images\".\n"
      ],
      "metadata": {
        "id": "7JLB5kJ9Ou29"
      }
    },
    {
      "cell_type": "code",
      "source": [
        "#Download test images if you want to test the application by unhashing and executing following \n",
        "!wget https://user-images.githubusercontent.com/19243618/147801374-0915efba-943d-4811-866e-b00fd0a961e4.jpeg \n",
        "!wget https://user-images.githubusercontent.com/19243618/147801504-66b17664-ef45-48e1-9f20-fc077d66676a.jpeg \n",
        "!wget https://user-images.githubusercontent.com/19243618/147801523-1d33a350-167d-406a-a8aa-4d67d28e3f9b.jpeg \n",
        "!wget https://user-images.githubusercontent.com/19243618/147801534-17340205-5600-4e76-9cb1-1b47c0f140b2.jpeg \n",
        "!wget https://user-images.githubusercontent.com/19243618/147801565-c3731a50-9eda-430b-97ce-bfb2433e9b5d.jpeg \n",
        "!wget https://user-images.githubusercontent.com/19243618/147801590-dce11c1a-d8bd-47f9-aa43-28f8ce471d4e.jpeg \n",
        "!wget https://user-images.githubusercontent.com/19243618/147801613-1e7b6cbb-24b1-4074-a6a0-c332e40b7b6c.jpeg \n",
        "!wget https://user-images.githubusercontent.com/19243618/147801637-921474aa-ce39-4144-afca-e8910c5d1438.jpeg \n",
        "!wget https://user-images.githubusercontent.com/19243618/147801681-1eaf53dc-f6b4-4a46-9048-633681a5c0ed.jpeg \n",
        "!wget https://user-images.githubusercontent.com/19243618/147801703-452cc054-98c2-40e4-9585-5b356c5ccb5f.jpeg "
      ],
      "metadata": {
        "id": "4NQzeLxSeVTk"
      },
      "execution_count": null,
      "outputs": []
    },
    {
      "cell_type": "code",
      "source": [
        "!pip install paddlepaddle paddleocr fastai -Uqq\n",
        "\n",
        "from fastai.vision.all import *\n",
        "from paddleocr import PaddleOCR\n",
        "from PIL import Image\n",
        "import re\n",
        "import base64\n",
        "import pandas as pd\n",
        "from io import BytesIO\n",
        "from IPython.display import HTML\n",
        "\n",
        "\n",
        "\n",
        "import IPython\n",
        "import uuid\n",
        "from google.colab import output\n",
        "\n",
        "class InvokeButton(object):\n",
        "  def __init__(self, title, callback):\n",
        "    self._title = title\n",
        "    self._callback = callback\n",
        "\n",
        "  def _repr_html_(self):\n",
        "    callback_id = 'button-' + str(uuid.uuid4())\n",
        "    output.register_callback(callback_id, self._callback)\n",
        "\n",
        "    template = \"\"\"<button id=\"{callback_id}\">{title}</button>\n",
        "        <script>\n",
        "          document.querySelector(\"#{callback_id}\").onclick = (e) => {{\n",
        "            google.colab.kernel.invokeFunction('{callback_id}', [], {{}})\n",
        "            e.preventDefault();\n",
        "          }};\n",
        "        </script>\"\"\"\n",
        "    html = template.format(title=self._title, callback_id=callback_id)\n",
        "    return html\n",
        "\n",
        "\n",
        "\n",
        "\n",
        "path=\"/content/\"\n",
        "fn=get_image_files('/content/')\n",
        "region_names={'CR', 'KR', 'NR', 'NCR', 'NER', 'NFR', 'NWR', 'ER', 'ECR', 'ECOR',\n",
        "       'SR', 'SCR', 'SCOR', 'SER', 'SECR', 'SWR', 'WR', 'WCR'}\n",
        "wagon={'steel_wagon':['BFNS','BOST','BOSTHS','BOXN','BRN','BRNA','BRNAHS'],'brake_van':['BVCM','BVZC','BVZI']}\n",
        "\n",
        "def wagon_num(num):\n",
        "  x=[]\n",
        "  for i in range(len(num)):\n",
        "    if len(num[i])!=11:\n",
        "      o=i\n",
        "      while o<(len(num)-1):\n",
        "        if len(num[i]+num[o+1])==11:\n",
        "          x.append(num[i]+num[o+1])\n",
        "        o+=1\n",
        "    else:x.append(num[i])\n",
        "  return x \n",
        "\n",
        "def rail_region(txts):\n",
        "  region_name=[]\n",
        "  if len(txts)>0:\n",
        "    for x in txts:\n",
        "      if x in region_names:\n",
        "        region_name.append(x)\n",
        "    return region_name\n",
        "\n",
        "def get_thumbnail(path):\n",
        "    i = Image.open(path)\n",
        "    i.thumbnail((300, 200), Image.LANCZOS)\n",
        "    return i\n",
        "\n",
        "def image_base64(im):\n",
        "    if isinstance(im, str):\n",
        "        im = get_thumbnail(im)\n",
        "    with BytesIO() as buffer:\n",
        "        im.save(buffer, 'jpeg')\n",
        "        return base64.b64encode(buffer.getvalue()).decode()\n",
        "\n",
        "def image_formatter(im):\n",
        "    return f'<img src=\"data:image/jpeg;base64,{image_base64(im)}\">'\n",
        "\n",
        "pd.set_option('display.max_colwidth', -1)\n",
        "\n",
        "\n",
        "def predict():\n",
        "   wagon_number=[];region=[];texts=[];nums=[];image=[]\n",
        "   for i in fn:\n",
        "     ocr = PaddleOCR(use_angle_cls=True, lang='en',use_gpu=False)\n",
        "     result = ocr.ocr(str(i), cls=True)\n",
        "     outs = [line[1][0] for line in result]\n",
        "     txts=[item.upper() for sublist in [re.findall(\"[a-zA-Z]+\",o) for o in outs] for item in sublist]\n",
        "     num=[item for sublist in [re.findall(r'\\d+',o) for o in outs] for item in sublist]\n",
        "     r_region=rail_region(txts)\n",
        "     wagon=wagon_num(num)\n",
        "     wagon_number.append({wagon[0] if len(wagon)>0 else None});region.append(r_region);texts.append(txts);nums.append(num);image.append(str(i))\n",
        "   df=pd.DataFrame({'wagon_number':wagon_number, 'region':region, 'texts':texts,'nums':nums,'image':image })\n",
        "   df.to_excel(r'/content/wagon_excel.xlsx', index=False)\n",
        "   return HTML(df.to_html(formatters={'image': image_formatter}, escape=False))\n",
        "\n",
        "InvokeButton('Predict', predict)"
      ],
      "metadata": {
        "id": "1PTfx38H6dYk",
        "colab": {
          "base_uri": "https://localhost:8080/",
          "height": 39
        },
        "outputId": "f55242f1-22af-4997-a3ec-13ab49e33227"
      },
      "execution_count": 12,
      "outputs": [
        {
          "output_type": "execute_result",
          "data": {
            "text/html": [
              "<button id=\"button-3bf2d304-ceb8-4eef-ad20-2864a04bfed2\">Predict</button>\n",
              "        <script>\n",
              "          document.querySelector(\"#button-3bf2d304-ceb8-4eef-ad20-2864a04bfed2\").onclick = (e) => {\n",
              "            google.colab.kernel.invokeFunction('button-3bf2d304-ceb8-4eef-ad20-2864a04bfed2', [], {})\n",
              "            e.preventDefault();\n",
              "          };\n",
              "        </script>"
            ],
            "text/plain": [
              "<__main__.InvokeButton at 0x7fe662a17e50>"
            ]
          },
          "metadata": {},
          "execution_count": 12
        }
      ]
    },
    {
      "cell_type": "code",
      "source": [
        ""
      ],
      "metadata": {
        "id": "9p-Srvx8T0wr"
      },
      "execution_count": null,
      "outputs": []
    }
  ],
  "metadata": {
    "colab": {
      "name": "scratchpad",
      "provenance": [],
      "include_colab_link": true
    },
    "kernelspec": {
      "display_name": "Python 3",
      "name": "python3"
    }
  },
  "nbformat": 4,
  "nbformat_minor": 0
}